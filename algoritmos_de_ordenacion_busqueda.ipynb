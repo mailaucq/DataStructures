{
  "nbformat": 4,
  "nbformat_minor": 0,
  "metadata": {
    "colab": {
      "name": "algoritmos-de-ordenacion-busqueda.ipynb",
      "version": "0.3.2",
      "provenance": []
    },
    "kernelspec": {
      "name": "python3",
      "display_name": "Python 3"
    }
  },
  "cells": [
    {
      "metadata": {
        "id": "yeF7cNjofhpL",
        "colab_type": "text"
      },
      "cell_type": "markdown",
      "source": [
        "# Como medir el desempeño de un programa en Python\n",
        "\n",
        "Usando el modulo time\n",
        "\n",
        "\n",
        "*   Funcion `time()`\n",
        "*   Devuelve el tiempo recorrido en segundos desde 1/1/1970, en Unix\n",
        "\n"
      ]
    },
    {
      "metadata": {
        "id": "zca_BdKuv5pe",
        "colab_type": "code",
        "colab": {}
      },
      "cell_type": "code",
      "source": [
        "%matplotlib inline\n",
        "\n",
        "import matplotlib\n",
        "import matplotlib.pyplot as plt\n",
        "import random\n",
        "import time"
      ],
      "execution_count": 0,
      "outputs": []
    },
    {
      "metadata": {
        "id": "bGfkhMMMx_YE",
        "colab_type": "text"
      },
      "cell_type": "markdown",
      "source": [
        "# Algoritmos de Ordenación\n"
      ]
    },
    {
      "metadata": {
        "id": "eofumB1pgfif",
        "colab_type": "code",
        "colab": {}
      },
      "cell_type": "code",
      "source": [
        "def ordenacionporseleccion(lista):\n",
        "  fin = len(lista)\n",
        "\n",
        "  for i in range(fin - 1):\n",
        "    # Inicialmente, el menor elemento ya visto es el i-ésimo, inicio de la lista\n",
        "    posicion_de_minimo = i\n",
        "\n",
        "    # Iterar desde el i-esimo actual posicion minima, hasta el final\n",
        "    # Encontrar el elemento menor en ese subconjunto\n",
        "    for j in range(i+1, fin):\n",
        "      if lista[j] < lista[posicion_de_minimo]:\n",
        "        posicion_de_minimo = j\n",
        "    lista[i], lista[posicion_de_minimo] = lista[posicion_de_minimo], lista[i]"
      ],
      "execution_count": 0,
      "outputs": []
    },
    {
      "metadata": {
        "id": "qX4W7WTChydY",
        "colab_type": "code",
        "outputId": "0be3be24-3cc1-4a93-b8af-080538f25514",
        "colab": {
          "base_uri": "https://localhost:8080/",
          "height": 34
        }
      },
      "cell_type": "code",
      "source": [
        "lista = [10,3,8,-10,200,17,32]\n",
        "ordenacionporseleccion(lista)\n",
        "print(lista)"
      ],
      "execution_count": 4,
      "outputs": [
        {
          "output_type": "stream",
          "text": [
            "[-10, 3, 8, 10, 17, 32, 200]\n"
          ],
          "name": "stdout"
        }
      ]
    },
    {
      "metadata": {
        "id": "sQtCdEJ8i5d-",
        "colab_type": "code",
        "colab": {}
      },
      "cell_type": "code",
      "source": [
        "def ordenacionburbuja(lista):\n",
        "  fin = len(lista)\n",
        "  for i in range(fin-1, 0, -1):\n",
        "      for j in range(i):\n",
        "        if lista[j] > lista[j+1]:\n",
        "          lista[j], lista[j+1] = lista[j+1], lista[j]\n",
        "          "
      ],
      "execution_count": 0,
      "outputs": []
    },
    {
      "metadata": {
        "id": "fyQfC_n8egkW",
        "colab_type": "code",
        "outputId": "8122642c-23ab-483f-9cd1-66c2b4d4cf4d",
        "colab": {
          "base_uri": "https://localhost:8080/",
          "height": 34
        }
      },
      "cell_type": "code",
      "source": [
        "lista = [10,-3,8,-10,200,-17,32]\n",
        "ordenacionburbuja(lista)\n",
        "print(lista)"
      ],
      "execution_count": 6,
      "outputs": [
        {
          "output_type": "stream",
          "text": [
            "[-17, -10, -3, 8, 10, 32, 200]\n"
          ],
          "name": "stdout"
        }
      ]
    },
    {
      "metadata": {
        "id": "MeNMrl40jOW3",
        "colab_type": "code",
        "colab": {}
      },
      "cell_type": "code",
      "source": [
        " def insertionsort(lista):\n",
        "    for i in range(1, len(lista)):\n",
        "      v = lista[i]\n",
        "      k = i\n",
        "      while k > 0 and v < lista[k -1]:\n",
        "        lista[k] = lista[k-1]\n",
        "        k-=1\n",
        "      lista[k] = v"
      ],
      "execution_count": 0,
      "outputs": []
    },
    {
      "metadata": {
        "id": "43wazG7ajner",
        "colab_type": "code",
        "colab": {
          "base_uri": "https://localhost:8080/",
          "height": 34
        },
        "outputId": "768fa825-141f-4b61-a423-8b5ff76aaf0b"
      },
      "cell_type": "code",
      "source": [
        "lista = [10,-3,8,-10,200,-17,32]\n",
        "insertionsort(lista)\n",
        "print(lista)"
      ],
      "execution_count": 24,
      "outputs": [
        {
          "output_type": "stream",
          "text": [
            "[-17, -10, -3, 8, 10, 32, 200]\n"
          ],
          "name": "stdout"
        }
      ]
    },
    {
      "metadata": {
        "id": "W9DiXvC7yFwC",
        "colab_type": "text"
      },
      "cell_type": "markdown",
      "source": [
        "## Medimos desempeño"
      ]
    },
    {
      "metadata": {
        "id": "uBKMn71oivXF",
        "colab_type": "code",
        "colab": {}
      },
      "cell_type": "code",
      "source": [
        "# Generamos datos aleatorios\n",
        "def lista_aleatoria(n):\n",
        "  lista = [0 for x in range(n)]\n",
        "  for i in range(n):\n",
        "    lista[i]=random.randrange(1000)\n",
        "  return lista"
      ],
      "execution_count": 0,
      "outputs": []
    },
    {
      "metadata": {
        "id": "PoojVBNTuiOS",
        "colab_type": "code",
        "colab": {}
      },
      "cell_type": "code",
      "source": [
        "# Funcion para calcular tiempo\n",
        "def calcula_tiempo_ordenacion(funcion, lista):\n",
        "  start = time.time()\n",
        "  funcion(lista)\n",
        "  fin = time.time()\n",
        "  t = fin - start\n",
        "  return t"
      ],
      "execution_count": 0,
      "outputs": []
    },
    {
      "metadata": {
        "id": "K93xxM9qwCmg",
        "colab_type": "code",
        "colab": {}
      },
      "cell_type": "code",
      "source": [
        "import numpy as np\n",
        "def grafica_desempeno(n):\n",
        "  x = range(1,n,10)#[1000, 5000,10000,50000,100000,200000,300000]\n",
        "  y1 = []\n",
        "  y2 = []\n",
        "  y3 = []\n",
        "  e1 = []\n",
        "  e2 = []\n",
        "  e3 = []\n",
        "  for i in x:\n",
        "    y11 = []\n",
        "    y22 = []\n",
        "    y33 = []\n",
        "    for it in range(10): # numero de iteraciones dado un tamano de lista\n",
        "      lista1 = lista_aleatoria(i) # Datos\n",
        "      lista2 = lista1[:]          # Clone\n",
        "      lista3 = lista1[:]\n",
        "      t = calcula_tiempo_ordenacion(ordenacionburbuja, lista1)\n",
        "      y11.append(t)\n",
        "      t = calcula_tiempo_ordenacion(ordenacionporseleccion, lista2)\n",
        "      y22.append(t)\n",
        "      t = calcula_tiempo_ordenacion(insertionsort, lista3)\n",
        "      y33.append(t)\n",
        "    y1.append(np.mean(y11))\n",
        "    e1.append(np.std(y11))\n",
        "    y2.append(np.mean(y22))\n",
        "    e2.append(np.std(y11))\n",
        "    y3.append(np.mean(y33))\n",
        "    e3.append(np.std(y11))\n",
        "  plt.plot(x,y1, label='Buble Sort')\n",
        "  plt.plot(x,y2, label='Selection Sort')\n",
        "  plt.plot(x,y3, label='Insertion Sort')\n",
        "  plt.errorbar(x, y1, e1, linestyle='None', marker='^')\n",
        "  plt.errorbar(x, y2, e2, linestyle='None', marker='^')\n",
        "  plt.errorbar(x, y3, e3, linestyle='None', marker='^')\n",
        "  plt.xlabel('number of elements')\n",
        "  plt.ylabel('time')\n",
        "  plt.legend()\n",
        "  plt.show()"
      ],
      "execution_count": 0,
      "outputs": []
    },
    {
      "metadata": {
        "id": "LWF1MTxDwvRC",
        "colab_type": "code",
        "outputId": "f9966142-b9e7-4c5a-f01d-f8fbe3f52b68",
        "colab": {
          "base_uri": "https://localhost:8080/",
          "height": 279
        }
      },
      "cell_type": "code",
      "source": [
        "grafica_desempeno(100)"
      ],
      "execution_count": 43,
      "outputs": [
        {
          "output_type": "display_data",
          "data": {
            "image/png": "[encoded data removed]",
            "text/plain": [
              "<matplotlib.figure.Figure at 0x7faff7699f98>"
            ]
          },
          "metadata": {
            "tags": []
          }
        }
      ]
    },
    {
      "metadata": {
        "id": "Sbxzc5I9ydky",
        "colab_type": "text"
      },
      "cell_type": "markdown",
      "source": [
        "#Algoritmos de Búsqueda"
      ]
    },
    {
      "metadata": {
        "id": "G4d8b0sityKT",
        "colab_type": "code",
        "colab": {}
      },
      "cell_type": "code",
      "source": [
        "def busqueda_sequencial(lista, x):\n",
        "  for i in range(len(lista)):\n",
        "    if lista[i] == x:\n",
        "      return i\n",
        "  return -1"
      ],
      "execution_count": 0,
      "outputs": []
    },
    {
      "metadata": {
        "id": "tf8G6W9ft_mz",
        "colab_type": "code",
        "colab": {}
      },
      "cell_type": "code",
      "source": [
        "def busqueda_binaria(lista, x):\n",
        "  primero = 0 \n",
        "  ultimo = len(lista) - 1\n",
        "  while primero <= ultimo:\n",
        "    mitad = (primero + ultimo)//2\n",
        "    if lista[mitad] == x:\n",
        "      return mitad\n",
        "    else:\n",
        "      if x < lista[mitad]:\n",
        "        ultimo = mitad - 1\n",
        "      else:\n",
        "        primero = mitad + 1\n",
        "  return -1"
      ],
      "execution_count": 0,
      "outputs": []
    },
    {
      "metadata": {
        "id": "hbZ7rGxiylle",
        "colab_type": "text"
      },
      "cell_type": "markdown",
      "source": [
        "## Medimos desempeño"
      ]
    },
    {
      "metadata": {
        "id": "OswQk5vovDyP",
        "colab_type": "code",
        "colab": {}
      },
      "cell_type": "code",
      "source": [
        "def lista_elemento(n):\n",
        "  lista = lista_aleatoria(n)\n",
        "  ordenacionporseleccion(lista)\n",
        "  elemento = lista[random.randrange(n)]\n",
        "  return lista, elemento"
      ],
      "execution_count": 0,
      "outputs": []
    },
    {
      "metadata": {
        "id": "kQ6E5BYrmfyf",
        "colab_type": "code",
        "colab": {}
      },
      "cell_type": "code",
      "source": [
        "def calcula_tiempo_busqueda(funcion, lista1, elemento):\n",
        "  start = time.time()\n",
        "  funcion(lista1, elemento)\n",
        "  fin = time.time()\n",
        "  t = fin - start\n",
        "  return t"
      ],
      "execution_count": 0,
      "outputs": []
    },
    {
      "metadata": {
        "id": "ypqgYnpykY5Z",
        "colab_type": "code",
        "colab": {}
      },
      "cell_type": "code",
      "source": [
        "def grafica_desempeno(n):\n",
        "  x = range(1, n, 100)\n",
        "  y1 = []\n",
        "  y2 = []\n",
        "  for i in x: \n",
        "    lista, elemento = lista_elemento(i) # Datos\n",
        "    t = calcula_tiempo_busqueda(busqueda_sequencial, lista, elemento)\n",
        "    y1.append(t)\n",
        "    t = calcula_tiempo_busqueda(busqueda_binaria, lista, elemento)\n",
        "    y2.append(t)\n",
        "  plt.plot(x,y1, label='Sequential Search')\n",
        "  plt.plot(x,y2, label='Binary Search')\n",
        "  plt.xlabel('number of elements')\n",
        "  plt.ylabel('time')\n",
        "  plt.legend()\n",
        "  plt.show()"
      ],
      "execution_count": 0,
      "outputs": []
    },
    {
      "metadata": {
        "id": "4c5YUQo1o-60",
        "colab_type": "code",
        "outputId": "f94ec6e0-8a1e-4671-df3d-bfc18770381a",
        "colab": {
          "base_uri": "https://localhost:8080/",
          "height": 279
        }
      },
      "cell_type": "code",
      "source": [
        "grafica_desempeno(1000)\n"
      ],
      "execution_count": 0,
      "outputs": [
        {
          "output_type": "display_data",
          "data": {
            "image/png": "[encoded data removed]",
            "text/plain": [
              "<matplotlib.figure.Figure at 0x7f6e4962da90>"
            ]
          },
          "metadata": {
            "tags": []
          }
        }
      ]
    },
    {
      "metadata": {
        "id": "iI2gn0xDpEvZ",
        "colab_type": "code",
        "colab": {}
      },
      "cell_type": "code",
      "source": [
        ""
      ],
      "execution_count": 0,
      "outputs": []
    }
  ]
}