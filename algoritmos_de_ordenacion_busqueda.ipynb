{
  "nbformat": 4,
  "nbformat_minor": 0,
  "metadata": {
    "colab": {
      "name": "algoritmos-de-ordenacion-busqueda.ipynb",
      "version": "0.3.2",
      "provenance": []
    },
    "kernelspec": {
      "name": "python3",
      "display_name": "Python 3"
    }
  },
  "cells": [
    {
      "metadata": {
        "id": "yeF7cNjofhpL",
        "colab_type": "text"
      },
      "cell_type": "markdown",
      "source": [
        "# Como medir el desempeño de un programa en Python\n",
        "\n",
        "Usando el modulo time\n",
        "\n",
        "\n",
        "*   Funcion `time()`\n",
        "*   Devuelve el tiempo recorrido en segundos desde 1/1/1970, en Unix\n",
        "\n"
      ]
    },
    {
      "metadata": {
        "id": "zca_BdKuv5pe",
        "colab_type": "code",
        "colab": {}
      },
      "cell_type": "code",
      "source": [
        "%matplotlib inline\n",
        "\n",
        "import matplotlib\n",
        "import matplotlib.pyplot as plt\n",
        "import random\n"
      ],
      "execution_count": 0,
      "outputs": []
    },
    {
      "metadata": {
        "id": "eofumB1pgfif",
        "colab_type": "code",
        "colab": {}
      },
      "cell_type": "code",
      "source": [
        "def ordenacionporseleccion(lista):\n",
        "  fin = len(lista)\n",
        "\n",
        "  for i in range(fin - 1):\n",
        "    # Inicialmente, el menor elemento ya visto es el i-ésimo, inicio de la lista\n",
        "    posicion_de_minimo = i\n",
        "\n",
        "    # Iterar desde el i-esimo actual posicion minima, hasta el final\n",
        "    # Encontrar el elemento menor en ese subconjunto\n",
        "    for j in range(i+1, fin):\n",
        "      if lista[j] < lista[posicion_de_minimo]:\n",
        "        posicion_de_minimo = j\n",
        "    lista[i], lista[posicion_de_minimo] = lista[posicion_de_minimo], lista[i]"
      ],
      "execution_count": 0,
      "outputs": []
    },
    {
      "metadata": {
        "id": "qX4W7WTChydY",
        "colab_type": "code",
        "colab": {
          "base_uri": "https://localhost:8080/",
          "height": 34
        },
        "outputId": "b741736f-336d-4360-9669-b576e5fca2c8"
      },
      "cell_type": "code",
      "source": [
        "lista = [10,3,8,-10,200,17,32]\n",
        "ordenacionporseleccion(lista)\n",
        "print(lista)"
      ],
      "execution_count": 6,
      "outputs": [
        {
          "output_type": "stream",
          "text": [
            "[-10, 3, 8, 10, 17, 32, 200]\n"
          ],
          "name": "stdout"
        }
      ]
    },
    {
      "metadata": {
        "id": "sQtCdEJ8i5d-",
        "colab_type": "code",
        "colab": {}
      },
      "cell_type": "code",
      "source": [
        "def ordenacionburbuja(lista):\n",
        "  fin = len(lista)\n",
        "  for i in range(fin-1, 0, -1):\n",
        "      for j in range(i):\n",
        "        if lista[j] > lista[j+1]:\n",
        "          lista[j], lista[j+1] = lista[j+1], lista[j]\n",
        "          "
      ],
      "execution_count": 0,
      "outputs": []
    },
    {
      "metadata": {
        "id": "fyQfC_n8egkW",
        "colab_type": "code",
        "colab": {
          "base_uri": "https://localhost:8080/",
          "height": 34
        },
        "outputId": "141f35c9-68ac-4224-dc58-81c36a863798"
      },
      "cell_type": "code",
      "source": [
        "lista = [10,-3,8,-10,200,-17,32]\n",
        "ordenacionburbuja(lista)\n",
        "print(lista)"
      ],
      "execution_count": 24,
      "outputs": [
        {
          "output_type": "stream",
          "text": [
            "[-17, -10, -3, 8, 10, 32, 200]\n"
          ],
          "name": "stdout"
        }
      ]
    },
    {
      "metadata": {
        "id": "uBKMn71oivXF",
        "colab_type": "code",
        "colab": {}
      },
      "cell_type": "code",
      "source": [
        "def lista_aleatoria(n):\n",
        "  lista = [0 for x in range(n)]\n",
        "  for i in range(n):\n",
        "    lista[i]=random.randrange(1000)\n",
        "  return lista"
      ],
      "execution_count": 0,
      "outputs": []
    },
    {
      "metadata": {
        "id": "PoojVBNTuiOS",
        "colab_type": "code",
        "colab": {}
      },
      "cell_type": "code",
      "source": [
        "def calcula_tiempo_ordenacion(funcion, lista):\n",
        "  start = time.time()\n",
        "  funcion(lista)\n",
        "  fin = time.time()\n",
        "  t = fin - start\n",
        "  return t"
      ],
      "execution_count": 0,
      "outputs": []
    },
    {
      "metadata": {
        "id": "6Cj77okVgnlF",
        "colab_type": "code",
        "colab": {}
      },
      "cell_type": "code",
      "source": [
        "def compara(n):\n",
        "  lista1 = lista_aleatoria(n)\n",
        "  lista2 = lista1[:]\n",
        "  \n",
        "  t = calcula_tiempo_ordenacion(ordenacionburbuja, lista1)\n",
        "  print(\"Algoritmo Burbuja demoró para %d elementos: %f segundos\" % (n,t))\n",
        "  \n",
        "  t = calcula_tiempo_ordenacion(ordenacionporseleccion, lista2)\n",
        "  print(\"Algoritmo por Selección demoró para %d elementos: %f segundos\" % (n,t))\n",
        "  "
      ],
      "execution_count": 0,
      "outputs": []
    },
    {
      "metadata": {
        "id": "Qh7Vos1_h3Qi",
        "colab_type": "code",
        "colab": {
          "base_uri": "https://localhost:8080/",
          "height": 52
        },
        "outputId": "9d3df391-0a2e-4b5d-819e-31225adc951f"
      },
      "cell_type": "code",
      "source": [
        "compara(1000)"
      ],
      "execution_count": 134,
      "outputs": [
        {
          "output_type": "stream",
          "text": [
            "Algoritmo Burbuja demoró para 1000 elementos: 0.108347 segundos\n",
            "Algoritmo por Selección demoró para 1000 elementos: 0.046800 segundos\n"
          ],
          "name": "stdout"
        }
      ]
    },
    {
      "metadata": {
        "id": "jhcc6vMmiOfU",
        "colab_type": "code",
        "colab": {
          "base_uri": "https://localhost:8080/",
          "height": 52
        },
        "outputId": "1c58cf46-e032-4ec6-aeba-9d19319a2bc5"
      },
      "cell_type": "code",
      "source": [
        "compara(5000)"
      ],
      "execution_count": 28,
      "outputs": [
        {
          "output_type": "stream",
          "text": [
            "Algoritmo Burbuja demoró para 5000 elementos: 2.793359 segundos\n",
            "Algoritmo por Selección demoró para 5000 elementos: 1.211383 segundos\n"
          ],
          "name": "stdout"
        }
      ]
    },
    {
      "metadata": {
        "id": "K93xxM9qwCmg",
        "colab_type": "code",
        "colab": {}
      },
      "cell_type": "code",
      "source": [
        "def grafica_desempeno(n):\n",
        "  x = range(1, n, 100)\n",
        "  y1 = []\n",
        "  y2 = []\n",
        "  for i in x: \n",
        "    lista1 = lista_aleatoria(n) # Datos\n",
        "    lista2 = lista1[:]          # Clone\n",
        "    t = calcula_tiempo_ordenacion(ordenacionburbuja, lista1)\n",
        "    y1.append(t)\n",
        "    t = calcula_tiempo_ordenacion(ordenacionporseleccion, lista2)\n",
        "    y2.append(t)\n",
        "  plt.plot(x,y1, label='Buble Sort')\n",
        "  plt.plot(x,y2, label='Selection Sort')\n",
        "  plt.xlabel('number of elements')\n",
        "  plt.ylabel('time')\n",
        "  plt.legend()\n",
        "  plt.show()"
      ],
      "execution_count": 0,
      "outputs": []
    },
    {
      "metadata": {
        "id": "LWF1MTxDwvRC",
        "colab_type": "code",
        "colab": {
          "base_uri": "https://localhost:8080/",
          "height": 279
        },
        "outputId": "10098953-1ae7-490d-fbaa-9ec3c73f6ec0"
      },
      "cell_type": "code",
      "source": [
        "grafica_desempeno(1000)"
      ],
      "execution_count": 140,
      "outputs": [
        {
          "output_type": "display_data",
          "data": {
            "image/png": "[encoded data removed]",
            "text/plain": [
              "<matplotlib.figure.Figure at 0x7f6e49ba0c18>"
            ]
          },
          "metadata": {
            "tags": []
          }
        }
      ]
    },
    {
      "metadata": {
        "id": "G4d8b0sityKT",
        "colab_type": "code",
        "colab": {}
      },
      "cell_type": "code",
      "source": [
        "def busqueda_sequencial(lista, x):\n",
        "  for i in range(len(lista)):\n",
        "    if lista[i] == x:\n",
        "      return i\n",
        "  return -1"
      ],
      "execution_count": 0,
      "outputs": []
    },
    {
      "metadata": {
        "id": "tf8G6W9ft_mz",
        "colab_type": "code",
        "colab": {}
      },
      "cell_type": "code",
      "source": [
        "def busqueda_binaria(lista, x):\n",
        "  primero = 0 \n",
        "  ultimo = len(lista) - 1\n",
        "  while primero <= ultimo:\n",
        "    mitad = (primero + ultimo)//2\n",
        "    if lista[mitad] == x:\n",
        "      return mitad\n",
        "    else:\n",
        "      if x < lista[mitad]:\n",
        "        ultimo = mitad - 1\n",
        "      else:\n",
        "        primero = mitad + 1\n",
        "  return -1"
      ],
      "execution_count": 0,
      "outputs": []
    },
    {
      "metadata": {
        "id": "OswQk5vovDyP",
        "colab_type": "code",
        "colab": {}
      },
      "cell_type": "code",
      "source": [
        "def lista_elemento(n):\n",
        "  lista = lista_aleatoria(n)\n",
        "  ordenacionporseleccion(lista)\n",
        "  elemento = lista[random.randrange(n)]\n",
        "  return lista, elemento"
      ],
      "execution_count": 0,
      "outputs": []
    },
    {
      "metadata": {
        "id": "kQ6E5BYrmfyf",
        "colab_type": "code",
        "colab": {}
      },
      "cell_type": "code",
      "source": [
        "def calcula_tiempo_busqueda(funcion, lista1, elemento):\n",
        "  start = time.time()\n",
        "  funcion(lista1, elemento)\n",
        "  fin = time.time()\n",
        "  t = fin - start\n",
        "  return t"
      ],
      "execution_count": 0,
      "outputs": []
    },
    {
      "metadata": {
        "id": "ypqgYnpykY5Z",
        "colab_type": "code",
        "colab": {}
      },
      "cell_type": "code",
      "source": [
        "def grafica_desempeno(n):\n",
        "  x = range(1, n, 100)\n",
        "  y1 = []\n",
        "  y2 = []\n",
        "  for i in x: \n",
        "    lista, elemento = lista_elemento(i) # Datos\n",
        "    t = calcula_tiempo_busqueda(busqueda_sequencial, lista, elemento)\n",
        "    y1.append(t)\n",
        "    t = calcula_tiempo_busqueda(busqueda_binaria, lista, elemento)\n",
        "    y2.append(t)\n",
        "  plt.plot(x,y1, label='Busqueda Sequencial')\n",
        "  plt.plot(x,y2, label='Busqueda Binaria')\n",
        "  plt.xlabel('number of elements')\n",
        "  plt.ylabel('time')\n",
        "  plt.legend()\n",
        "  plt.show()"
      ],
      "execution_count": 0,
      "outputs": []
    },
    {
      "metadata": {
        "id": "4c5YUQo1o-60",
        "colab_type": "code",
        "colab": {
          "base_uri": "https://localhost:8080/",
          "height": 279
        },
        "outputId": "f94ec6e0-8a1e-4671-df3d-bfc18770381a"
      },
      "cell_type": "code",
      "source": [
        "grafica_desempeno(1000)\n"
      ],
      "execution_count": 138,
      "outputs": [
        {
          "output_type": "display_data",
          "data": {
            "image/png": "[encoded data removed]",
            "text/plain": [
              "<matplotlib.figure.Figure at 0x7f6e4962da90>"
            ]
          },
          "metadata": {
            "tags": []
          }
        }
      ]
    },
    {
      "metadata": {
        "id": "iI2gn0xDpEvZ",
        "colab_type": "code",
        "colab": {}
      },
      "cell_type": "code",
      "source": [
        ""
      ],
      "execution_count": 0,
      "outputs": []
    }
  ]
}